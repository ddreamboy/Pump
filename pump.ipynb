{
 "cells": [
  {
   "cell_type": "code",
   "execution_count": 1,
   "id": "dc826860",
   "metadata": {},
   "outputs": [],
   "source": [
    "# импорт библиотек, необходимых для работы\n",
    "import pandas as pd\n",
    "from tqdm import tqdm\n",
    "from datetime import datetime\n",
    "from scipy.stats import f_oneway\n",
    "import matplotlib.pyplot as plt\n",
    "import seaborn as sns\n",
    "import numpy as np"
   ]
  },
  {
   "cell_type": "markdown",
   "id": "94e5a2dd",
   "metadata": {},
   "source": [
    "# Исправление датасета #"
   ]
  },
  {
   "cell_type": "markdown",
   "id": "9fb11dae",
   "metadata": {},
   "source": [
    "## · Отсортируем данные по дню недели и времени суток"
   ]
  },
  {
   "cell_type": "code",
   "execution_count": null,
   "id": "cd7af0fc",
   "metadata": {},
   "outputs": [],
   "source": [
    "# открываем csv файл \n",
    "filename = 'sensor.csv'\n",
    "data = pd.read_csv(filename) \n",
    "\n",
    "# конвертируем значения timestamp в datetime\n",
    "data['timestamp'] = pd.to_datetime(data['timestamp'])\n",
    "\n",
    "# создаем пустые объекты типа Series\n",
    "time_weekDays = pd.Series([])\n",
    "time_dayTimes = pd.Series([])\n",
    "\n",
    "# определяем день недели и время суток\n",
    "for i in tqdm(range(data.shape[0])):\n",
    "    \n",
    "    # определяем день недели\n",
    "    if datetime.isoweekday((data['timestamp'][i])) == 1:\n",
    "        time_weekDays[i] = 'Mon'\n",
    "    elif datetime.isoweekday((data['timestamp'][i])) == 2:\n",
    "        time_weekDays[i] = 'Tue'\n",
    "    elif datetime.isoweekday((data['timestamp'][i])) == 3:\n",
    "        time_weekDays[i] = 'Wed'\n",
    "    elif datetime.isoweekday((data['timestamp'][i])) == 4:\n",
    "        time_weekDays[i] = 'Thu'\n",
    "    elif datetime.isoweekday((data['timestamp'][i])) == 5:\n",
    "        time_weekDays[i] = 'Fri'\n",
    "    elif datetime.isoweekday((data['timestamp'][i])) == 6:\n",
    "        time_weekDays[i] = 'Sat'\n",
    "    else:\n",
    "        time_weekDays[i] = 'Sun'\n",
    "        \n",
    "    # определяем время\n",
    "    if (data['timestamp'][i].hour >= 4) and (data['timestamp'][i].hour < 12):\n",
    "        time_dayTimes[i] = 'Morning'\n",
    "    elif (data['timestamp'][i].hour >= 12) and (data['timestamp'][i].hour < 18):\n",
    "        time_dayTimes[i] = 'Noon'\n",
    "    elif (data['timestamp'][i].hour >= 18) and (data['timestamp'][i].hour < 23):\n",
    "        time_dayTimes[i] = 'Evening'\n",
    "    else:\n",
    "        time_dayTimes[i] = 'Night'\n",
    "\n",
    "# вставляем полученный столбец со значениями времени суток\n",
    "data.insert(2, 'time_dayTimes', time_dayTimes)\n",
    "# вставляем полученный столбец со значениями дней недели\n",
    "data.insert(2, 'time_weekDays', time_weekDays)\n",
    "# сохраняем наш измененный DataFrame в csv\n",
    "data.to_csv('sensor2.csv', encoding='utf-8', index=False)"
   ]
  },
  {
   "cell_type": "markdown",
   "id": "f321f293",
   "metadata": {},
   "source": [
    "## · Посмотрим на boxplot'ы"
   ]
  },
  {
   "cell_type": "code",
   "execution_count": null,
   "id": "dbb8f825",
   "metadata": {},
   "outputs": [],
   "source": [
    "# посмотрим на обработанные данные в виде boxplot'ов\n",
    "\n",
    "# открываем csv файл\n",
    "filename = 'sensor2.csv'\n",
    "data = pd.read_csv(filename)\n",
    "\n",
    "# удаляем значения со статусами RECOVERING и BROKEN\n",
    "data_normal = data.loc[~data['machine_status'].isin(['RECOVERING', 'BROKEN'])] \n",
    "\n",
    "for i in tqdm(range(0, 52)): # проходимся по всем сенсорам\n",
    "    fig, axes = plt.subplots(nrows = 1, ncols = 2) # создаем окно для вывода графиков в обрабатываемом диапазоне (с сеткой 2 на 2)\n",
    "    string = ''\n",
    "    if i < 10: # так как в названиях сенсора есть 00, 01, 02... (жуть)\n",
    "        string = '0' + str(i)\n",
    "    else:\n",
    "        string = str(i)\n",
    "    \n",
    "    # строим графики по значениям со статусом NORMAL\n",
    "    sns.boxplot(x = data_normal['sensor_' + string], y = data_normal['time_weekDays'], ax = axes[0], color = 'lightgreen', showfliers = False)\n",
    "    sns.boxplot(x = data_normal['sensor_' + string], y = data_normal['time_dayTimes'], ax = axes[1], color = 'lightgreen', showfliers = False)\n",
    "    \n",
    "    plt.subplots_adjust(wspace = 0.5, hspace = 0.5) # обозначим расстояние между графиками\n",
    "    plt.show()"
   ]
  },
  {
   "cell_type": "markdown",
   "id": "c7443751",
   "metadata": {},
   "source": [
    "## · Проведем тест ANOVA"
   ]
  },
  {
   "cell_type": "code",
   "execution_count": null,
   "id": "3102c4f8",
   "metadata": {},
   "outputs": [],
   "source": [
    "filename = 'sensor3.csv'\n",
    "data = pd.read_csv(filename)\n",
    "# data = data.loc[~data['machine_status'].isin(['RECOVERING', 'BROKEN'])]\n",
    "\n",
    "data_ = data.drop(columns = ['ID', 'timestamp', 'time_weekDays', 'time_dayTimes', 'machine_status'], axis = 1)\n",
    "sensors = list(data_.columns.values)\n",
    "days =  ['Mon', 'Tue', 'Wed', 'Thu', 'Fri', 'Sat', 'Sun']\n",
    "for sensor in sensors:\n",
    "    days_value = []\n",
    "    for i in range(0, len(days)):\n",
    "        days_value.append(data.loc[data['time_weekDays'].isin([days[i]]), sensor])\n",
    "    test = f_oneway(days_value[0], days_value[1], days_value[2], days_value[3], days_value[4], days_value[5], days_value[6])\n",
    "    print(f'Сенсор: {sensor}')\n",
    "    print(f'Результат теста: {test}')\n",
    "    print('\\n')"
   ]
  },
  {
   "cell_type": "markdown",
   "id": "e62121f6",
   "metadata": {},
   "source": [
    "## · Заполним пропуски в данных"
   ]
  },
  {
   "cell_type": "code",
   "execution_count": null,
   "id": "40d96c43",
   "metadata": {},
   "outputs": [],
   "source": [
    "filename = 'sensor2.csv'\n",
    "data = pd.read_csv(filename)\n",
    "\n",
    "# Посмотрим % отсутствующих показаний у каждого сенсора\n",
    "print('До фикса')\n",
    "for col in data.columns:\n",
    "    if 'sensor_' in col:\n",
    "        pct_missing = np.mean(data[col].isnull())\n",
    "        print('{} - {}%'.format(col, round(pct_missing * 100, 3)))\n",
    "print('\\n')\n",
    "\n",
    "# у sensor_15 вообще нет данных, а у sensor_50 они заполненны лишь на 65%, поэтому их можно удалить\n",
    "del data['sensor_15']\n",
    "del data['sensor_50']\n",
    "\n",
    "# отметим сенсоры с отсутствующими показаниями\n",
    "# sensor_00 - 5%, sensor_06 - 2%, sensor_07 - 2%\n",
    "# sensor_08 - 2%, sensor_09 - 2%, sensor_51 - 7%\n",
    "\n",
    "# будем заполнять отсутствующие данные по их медиане в конкретный день недели \n",
    "days =  ['Mon', 'Tue', 'Wed', 'Thu', 'Fri', 'Sat', 'Sun']\n",
    "sensors = ['sensor_00', 'sensor_06', 'sensor_07', 'sensor_08', 'sensor_09', 'sensor_51']\n",
    "\n",
    "for sensor in sensors: # пройдемся по всем сенсорам\n",
    "    print(sensor)\n",
    "    for day in days: # берем показания сенсора в каждый день недели\n",
    "        print(day)\n",
    "        data_com = data.loc[data['time_weekDays'].isin([day])] # оставляем показания только за интересующий нас день\n",
    "        data_com = data_com.loc[ : , ['ID', sensor]] # берем показания нужного нам сенсора и ID (для индексации)\n",
    "        if data_com[sensor].isnull().sum() > 0: # на всякий случай проверяем есть ли вообще незаполненные показания\n",
    "            data_com[sensor] = data_com[sensor].fillna(data_com[sensor].median()) # заполняем недостающие показания медианой столбца\n",
    "            for i in range(0, len(data[sensor])): # проходимся по каждому показанию нужного сенсора\n",
    "                if (np.isnan(data.loc[i, sensor]) or data.loc[i, sensor] == 0) and data.loc[i, 'time_weekDays'] == day: # если значение показанию отсутствует и день недели совпадает, то\n",
    "                    idx = data_com.index[data_com['ID'] == i].tolist()[0] # находим нужный индекс в сводной таблице с обработанными значениями\n",
    "                    data.loc[i, sensor] = data_com.loc[idx, sensor] # записываем в основную таблицу значение из сводной по соответствующему индексу\n",
    "    print('\\n')      \n",
    "\n",
    "# Посмотрим % отсутствующих показаний у каждого сенсора\n",
    "print('После фикса')\n",
    "for col in data.columns:\n",
    "    if 'sensor_' in col:\n",
    "        pct_missing = np.mean(data[col].isnull())\n",
    "        print('{} - {}%'.format(col, round(pct_missing * 100, 3))) \n",
    "\n",
    "data.to_csv('sensor3.csv', encoding='utf-8', index=False)"
   ]
  },
  {
   "cell_type": "markdown",
   "id": "89372caf",
   "metadata": {},
   "source": [
    "## · Построим графики интервалов беспрерывной работы"
   ]
  },
  {
   "cell_type": "code",
   "execution_count": null,
   "id": "e672a976",
   "metadata": {},
   "outputs": [],
   "source": [
    "filename = 'sensor3.csv'\n",
    "data = pd.read_csv(filename)\n",
    "\n",
    "data_broken = data.loc[data['machine_status'].isin(['BROKEN'])] # оставляем только показания при состоянии BROKEN\n",
    "broken_ids = data_broken.index.values # получаем список индексов поломок\n",
    "broken_count = len(broken_ids) # получаем количество поломок\n",
    "\n",
    "for i in range(0, broken_count - 2):\n",
    "    print(f'Интервал: {i+1}')\n",
    "    if i == 0:\n",
    "        start = 1\n",
    "    else:\n",
    "        start = broken_ids[i] + 1 # задаем начальное значение среза, так как используем .iloc прибавляем единицу\n",
    "    end = broken_ids[i + 1] # задаем конечное значение среза\n",
    "    diapason = data.iloc[start:end, :] # выполняем срез по заданному диапазону\n",
    "    fig, axes = plt.subplots(nrows = 7, ncols = 8) # создаем окно для вывода графиков в обрабатываемом диапазоне (с сеткой 7 на 8)\n",
    "    # позиции для установки графика сенсора на свою позицию в сетке окна\n",
    "    row = 0\n",
    "    col = 0\n",
    "    for i in tqdm(range(0, 52)): # проходимся по всем сенсорам\n",
    "        if i not in [15, 50]:\n",
    "            string = ''\n",
    "            if i < 10: # так как в названиях сенсора есть 00, 01, 02... (жуть)\n",
    "                string = '0' + str(i)\n",
    "            else:\n",
    "                string = str(i)\n",
    "            # строим график по значениям сенсора\n",
    "            diapason.plot(\n",
    "                x = 'ID', \n",
    "                y = 'sensor_' + string, \n",
    "                ax = axes[row, col], # положение графика в сетке окна\n",
    "                legend = False, # легенда мешает при выводе\n",
    "                xlabel = 'sensor_' + string # чтобы понятно было где чей график\n",
    "            )\n",
    "            col += 1 # после установки графика смещаем следующий в следующую колонну\n",
    "            if col == 8: # сетка 7 на 8, поэтому, когда колонны в строке кончаются, переходим на следующую строку\n",
    "                row += 1 # переход на следующую строку\n",
    "                col = 0 # новая строка - нумерация колонн сначала\n",
    "    plt.subplots_adjust(wspace = 0.75, hspace = 0.75) # обозначаем расстояние между графиками\n",
    "    plt.show()"
   ]
  },
  {
   "cell_type": "markdown",
   "id": "d14f00db",
   "metadata": {},
   "source": [
    "## · Построим тепловые карты для оценки корреляции"
   ]
  },
  {
   "cell_type": "code",
   "execution_count": null,
   "id": "fa23b6fa",
   "metadata": {},
   "outputs": [],
   "source": [
    "filename = 'sensor3.csv'\n",
    "data = pd.read_csv(filename)\n",
    "new_data = data.loc[ : , ['timestamp', 'sensor_14', 'sensor_19',  'sensor_20', 'sensor_21', 'sensor_22',\n",
    "                           'sensor_24', 'sensor_25', 'sensor_26', 'sensor_28', 'sensor_31', 'sensor_33',\n",
    "                           'sensor_34', 'sensor_41', 'sensor_42', 'sensor_49', 'sensor_51']]\n",
    "sns.heatmap(data.corr(), square = True)\n",
    "plt.show()\n",
    "sns.heatmap(new_data.corr(), annot = True, square = True)\n",
    "plt.show()"
   ]
  }
 ],
 "metadata": {
  "kernelspec": {
   "display_name": "Python 3 (ipykernel)",
   "language": "python",
   "name": "python3"
  },
  "language_info": {
   "codemirror_mode": {
    "name": "ipython",
    "version": 3
   },
   "file_extension": ".py",
   "mimetype": "text/x-python",
   "name": "python",
   "nbconvert_exporter": "python",
   "pygments_lexer": "ipython3",
   "version": "3.9.1"
  }
 },
 "nbformat": 4,
 "nbformat_minor": 5
}
